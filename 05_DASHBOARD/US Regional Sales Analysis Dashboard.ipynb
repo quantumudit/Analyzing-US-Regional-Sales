{
 "cells": [
  {
   "cell_type": "markdown",
   "metadata": {},
   "source": [
    "# US Regional Sales Analysis Dashboard\n",
    "\n",
    "The following interactive Power BI dashboard helps in analyzing the sales across the regions of the United States "
   ]
  },
  {
   "cell_type": "code",
   "execution_count": 1,
   "metadata": {},
   "outputs": [
    {
     "data": {
      "text/html": [
       "<iframe \n",
       "title=\"US Regional Sales Report\" width=\"1000\" height=\"600\" \n",
       "src=\"https://app.powerbi.com/view?r=eyJrIjoiYzJiNWRkOWUtYzFmNi00NzVmLTg0NWMtZTljZWY4MmQwZmZlIiwidCI6IjcwODlkNGIxLTQyMmUtNDYzZi1hNGM3LTViY2FiOTk0MGRiZCJ9&pageName=ReportSection8b0879d590be87cd63d7\" \n",
       "frameborder=\"0\" allowFullScreen=\"true\">\n",
       "</iframe>\n"
      ],
      "text/plain": [
       "<IPython.core.display.HTML object>"
      ]
     },
     "metadata": {},
     "output_type": "display_data"
    }
   ],
   "source": [
    "%%html\n",
    "<iframe \n",
    "title=\"US Regional Sales Report\" width=\"1000\" height=\"600\" \n",
    "src=\"https://app.powerbi.com/view?r=eyJrIjoiYzJiNWRkOWUtYzFmNi00NzVmLTg0NWMtZTljZWY4MmQwZmZlIiwidCI6IjcwODlkNGIxLTQyMmUtNDYzZi1hNGM3LTViY2FiOTk0MGRiZCJ9&pageName=ReportSection8b0879d590be87cd63d7\" \n",
    "frameborder=\"0\" allowFullScreen=\"true\">\n",
    "</iframe>"
   ]
  },
  {
   "cell_type": "markdown",
   "metadata": {},
   "source": [
    "All the visuals in the dashboards are cross-filters one-another which helps in deep-dive analysis of the data.\n",
    "\n",
    "This one pager dashboard shows the following:\n",
    "\n",
    "- **Map Visual**: Sales by store locations & regions\n",
    "- **Column Trend Visual**: Sales over period\n",
    "- **Donut visual**: Profit by channel\n",
    "- **Donut visual**: Profit by region\n",
    "- **Column Trend Visual**: 90 days moving average revenue by region\n",
    "- **Matrix visual**: Revenue & Profit by products\n",
    "- **Matrix visual**: Revenue & Profit by customers\n",
    "\n",
    "The dashboard can also be viewed in the browser from here: [US Regional Sales Analysis][dashboard_link]\n",
    "\n",
    "<a href = 'https://app.powerbi.com/view?r=eyJrIjoiYzJiNWRkOWUtYzFmNi00NzVmLTg0NWMtZTljZWY4MmQwZmZlIiwidCI6IjcwODlkNGIxLTQyMmUtNDYzZi1hNGM3LTViY2FiOTk0MGRiZCJ9&pageName=ReportSection8b0879d590be87cd63d7' target=\"_blank\">\n",
    "    <img src=\"../06_RESOURCES/dashboard_image.png\" alt=\"Power BI Dashboard\" border=\"0\" width=\"1000\" height=\"600\">\n",
    "</a>\n",
    "\n",
    "\n",
    "[dashboard_link]: https://app.powerbi.com/view?r=eyJrIjoiYzJiNWRkOWUtYzFmNi00NzVmLTg0NWMtZTljZWY4MmQwZmZlIiwidCI6IjcwODlkNGIxLTQyMmUtNDYzZi1hNGM3LTViY2FiOTk0MGRiZCJ9&pageName=ReportSection8b0879d590be87cd63d7"
   ]
  }
 ],
 "metadata": {
  "kernelspec": {
   "display_name": "Python 3",
   "language": "python",
   "name": "python3"
  },
  "language_info": {
   "codemirror_mode": {
    "name": "ipython",
    "version": 3
   },
   "file_extension": ".py",
   "mimetype": "text/x-python",
   "name": "python",
   "nbconvert_exporter": "python",
   "pygments_lexer": "ipython3",
   "version": "3.8.5"
  },
  "toc": {
   "base_numbering": 1,
   "nav_menu": {},
   "number_sections": false,
   "sideBar": true,
   "skip_h1_title": false,
   "title_cell": "Table of Contents",
   "title_sidebar": "Contents",
   "toc_cell": false,
   "toc_position": {},
   "toc_section_display": true,
   "toc_window_display": false
  }
 },
 "nbformat": 4,
 "nbformat_minor": 4
}
